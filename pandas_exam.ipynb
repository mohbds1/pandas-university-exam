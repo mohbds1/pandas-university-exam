{
 "cells": [
  {
   "cell_type": "code",
   "execution_count": null,
   "id": "50d184bb",
   "metadata": {},
   "outputs": [],
   "source": [
    "import pandas as pd\n",
    "import numpy as np"
   ]
  },
  {
   "cell_type": "markdown",
   "id": "42df7e01",
   "metadata": {},
   "source": [
    "# --- 1. Data Setup ---\n",
    "### Create the initial DataFrame based on the provided table"
   ]
  },
  {
   "cell_type": "code",
   "execution_count": null,
   "id": "f56ebc20",
   "metadata": {},
   "outputs": [],
   "source": [
    "data = {\n",
    "    'Transaction_ID': [1001, 1002, 1003, 1004, 1005, 1006],\n",
    "    'Customer_Name': ['Ahmed Ali', 'Sara Omar', 'Ali Saleh', 'Nada Hassan', 'Omar Khalid', 'Ahmed Ali'],\n",
    "    'Age': [28, np.nan, 35, 42, np.nan, 28],\n",
    "    'Email': ['ahmed@mail.com', 'sara@mail.com', np.nan, 'nada@mail.com', 'omar@mail.com', 'ahmed@mail.com'],\n",
    "    'Join_Date': ['2025-01-10', '2025-02-15', '2025-03-20', np.nan, '2025-05-05', '2025-01-10'],\n",
    "    'Total_Purchase': [250, 300, 150, 400, np.nan, 250]\n",
    "}\n",
    "df = pd.DataFrame(data)\n",
    "df"
   ]
  },
  {
   "cell_type": "markdown",
   "id": "d791133c",
   "metadata": {},
   "source": [
    "# --- 2. Initial Exploration & Checks ---"
   ]
  },
  {
   "cell_type": "markdown",
   "id": "cdb15194",
   "metadata": {},
   "source": [
    "## --- Data Exploration ---"
   ]
  },
  {
   "cell_type": "markdown",
   "id": "89712e7e",
   "metadata": {},
   "source": [
    "### Get data types, number of rows, and columns"
   ]
  },
  {
   "cell_type": "code",
   "execution_count": null,
   "id": "7999b40b",
   "metadata": {},
   "outputs": [],
   "source": [
    "df.info()"
   ]
  },
  {
   "cell_type": "code",
   "execution_count": null,
   "id": "294ab13e",
   "metadata": {},
   "outputs": [],
   "source": [
    "df.shape"
   ]
  },
  {
   "cell_type": "markdown",
   "id": "1ba084fd",
   "metadata": {},
   "source": [
    "### Check the number of null values in each column"
   ]
  },
  {
   "cell_type": "code",
   "execution_count": null,
   "id": "4402a640",
   "metadata": {},
   "outputs": [],
   "source": [
    "df.isnull().sum()"
   ]
  },
  {
   "cell_type": "markdown",
   "id": "a4e4feb2",
   "metadata": {},
   "source": [
    "### Identify duplicate rows before deleting them"
   ]
  },
  {
   "cell_type": "code",
   "execution_count": null,
   "id": "8c97e324",
   "metadata": {},
   "outputs": [],
   "source": [
    "df[df.duplicated()]"
   ]
  },
  {
   "cell_type": "markdown",
   "id": "3e92c2c2",
   "metadata": {},
   "source": [
    "# --- 3. Filtering and Analysis ---"
   ]
  },
  {
   "cell_type": "markdown",
   "id": "c49faec1",
   "metadata": {},
   "source": [
    "### Identify rows where Age is greater than 30"
   ]
  },
  {
   "cell_type": "code",
   "execution_count": null,
   "id": "f8ba1cd7",
   "metadata": {},
   "outputs": [],
   "source": [
    "df[df['Age'] > 30]"
   ]
  },
  {
   "cell_type": "markdown",
   "id": "98dd5b9d",
   "metadata": {},
   "source": [
    "### Identify rows with more than one null value"
   ]
  },
  {
   "cell_type": "code",
   "execution_count": null,
   "id": "9897bc0e",
   "metadata": {},
   "outputs": [],
   "source": [
    "df[df.isnull().sum(axis=1) > 1]"
   ]
  },
  {
   "cell_type": "markdown",
   "id": "2c11789b",
   "metadata": {},
   "source": [
    "# --- 4. Data Cleaning ---"
   ]
  },
  {
   "cell_type": "markdown",
   "id": "354f8139",
   "metadata": {},
   "source": [
    "### Remove duplicate rows"
   ]
  },
  {
   "cell_type": "code",
   "execution_count": null,
   "id": "bc85eceb",
   "metadata": {},
   "outputs": [],
   "source": [
    "df.drop_duplicates(inplace=True)\n",
    "df"
   ]
  },
  {
   "cell_type": "markdown",
   "id": "2fe75c72",
   "metadata": {},
   "source": [
    "### Convert the Join_Date column to datetime"
   ]
  },
  {
   "cell_type": "code",
   "execution_count": null,
   "id": "6321cc40",
   "metadata": {},
   "outputs": [],
   "source": [
    "df['Join_Date'] = pd.to_datetime(df['Join_Date'])\n",
    "df.dtypes"
   ]
  },
  {
   "cell_type": "markdown",
   "id": "329d4016",
   "metadata": {},
   "source": [
    "### Replace null values in the Age column with the mean"
   ]
  },
  {
   "cell_type": "code",
   "execution_count": null,
   "id": "e79b7f50",
   "metadata": {},
   "outputs": [],
   "source": [
    "# mean_age = df['Age'].mean()\n",
    "# df['Age'].fillna(mean_age, inplace=True)\n",
    "# df['Age']\n",
    "df['Age'].fillna(df['Age'].mean(), inplace=True)"
   ]
  },
  {
   "cell_type": "markdown",
   "id": "8d44da00",
   "metadata": {},
   "source": [
    "### Replace null values in the Total_Purchase column with 0"
   ]
  },
  {
   "cell_type": "code",
   "execution_count": null,
   "id": "7f5f3ecf",
   "metadata": {},
   "outputs": [],
   "source": [
    "# df['Total_Purchase'].fillna(0, inplace=True)\n",
    "# df['Total_Purchase']\n",
    "df['Total_Purchase'].fillna(0, inplace=True)"
   ]
  },
  {
   "cell_type": "markdown",
   "id": "6557c21c",
   "metadata": {},
   "source": [
    "## Let's see the cleaned DataFrame\n",
    "### Note: The NaN in Email and Join_Date still exist"
   ]
  },
  {
   "cell_type": "code",
   "execution_count": null,
   "id": "7254252b",
   "metadata": {},
   "outputs": [],
   "source": [
    "df"
   ]
  },
  {
   "cell_type": "markdown",
   "id": "f7f80b72",
   "metadata": {},
   "source": [
    "### Deleting all remaining rows with any nulls"
   ]
  },
  {
   "cell_type": "code",
   "execution_count": null,
   "id": "971064f6",
   "metadata": {},
   "outputs": [],
   "source": [
    "df_no_missing = df.dropna()\n",
    "len(df_no_missing)"
   ]
  },
  {
   "cell_type": "markdown",
   "id": "e2b377c5",
   "metadata": {},
   "source": [
    "### Data after cleaning"
   ]
  },
  {
   "cell_type": "code",
   "execution_count": null,
   "id": "10440ebb",
   "metadata": {},
   "outputs": [],
   "source": [
    "df"
   ]
  }
 ],
 "metadata": {
  "kernelspec": {
   "display_name": "Python 3",
   "language": "python",
   "name": "python3"
  },
  "language_info": {
   "codemirror_mode": {
    "name": "ipython",
    "version": 3
   },
   "file_extension": ".py",
   "mimetype": "text/x-python",
   "name": "python",
   "nbconvert_exporter": "python",
   "pygments_lexer": "ipython3",
   "version": "3.11.9"
  }
 },
 "nbformat": 4,
 "nbformat_minor": 5
}
